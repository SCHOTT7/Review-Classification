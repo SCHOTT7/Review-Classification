{
  "cells": [
    {
      "cell_type": "markdown",
      "id": "67cf73ed",
      "metadata": {
        "id": "67cf73ed"
      },
      "source": [
        "# First part : Almost same data processing as in the other Notebook, you can directly jump to the second part for the text classification "
      ]
    },
    {
      "cell_type": "code",
      "execution_count": null,
      "id": "d24ba559",
      "metadata": {
        "id": "d24ba559"
      },
      "outputs": [],
      "source": [
        "import pandas as pd\n",
        "import numpy as np\n",
        "import itertools\n",
        "import random\n",
        "from collections import Counter\n",
        "import tqdm\n",
        "\n",
        "import spacy\n",
        "nlp = spacy.load('en_core_web_sm')\n",
        "\n",
        "import matplotlib.pyplot as plt"
      ]
    },
    {
      "cell_type": "code",
      "execution_count": null,
      "id": "b75d9939",
      "metadata": {
        "id": "b75d9939"
      },
      "outputs": [],
      "source": [
        "data_train = pd.read_csv('D:\\\\5data\\\\archive\\\\test.ft.txt\\\\test.ft.txt', delimiter = \"\\t\", header = None)\n",
        "data_train = data_train.sample(n=25000, random_state=1)"
      ]
    },
    {
      "cell_type": "code",
      "execution_count": null,
      "id": "2f35a5ea",
      "metadata": {
        "id": "2f35a5ea"
      },
      "outputs": [],
      "source": [
        "data_train['output'] = data_train[0].apply(lambda x : x[:10])\n",
        "\n",
        "data_train['data'] = data_train[0].apply(lambda x : x[10:])\n",
        "\n",
        "data_train = data_train.drop([0], axis = 1)"
      ]
    },
    {
      "cell_type": "code",
      "execution_count": null,
      "id": "7215a63d",
      "metadata": {
        "id": "7215a63d"
      },
      "outputs": [],
      "source": [
        "data_train = data_train.reset_index()"
      ]
    },
    {
      "cell_type": "code",
      "execution_count": null,
      "id": "81288414",
      "metadata": {
        "id": "81288414",
        "outputId": "7db1c9bf-af59-489d-dc75-dae752b732f0"
      },
      "outputs": [
        {
          "name": "stderr",
          "output_type": "stream",
          "text": [
            "100%|████████████████████████████████████████████████████████████████████████████| 25000/25000 [04:23<00:00, 94.94it/s]\n",
            "C:\\Users\\Victo\\anaconda3\\lib\\site-packages\\spacy\\pipeline\\lemmatizer.py:211: UserWarning: [W108] The rule-based lemmatizer did not find POS annotation for one or more tokens. Check that your pipeline includes components that assign token.pos, typically 'tagger'+'attribute_ruler' or 'morphologizer'.\n",
            "  warnings.warn(Warnings.W108)\n",
            "100%|██████████████████████████████████████████████████████████████████████████▉| 24994/25000 [02:35<00:00, 243.11it/s]"
          ]
        }
      ],
      "source": [
        "clean_text = []\n",
        "pbar = tqdm.tqdm(total=len(data_train['data']),position=0, leave=True)\n",
        "\n",
        "for text in nlp.pipe(data_train['data'], disable=[\"tagger\", \"parser\", \"ner\"]):\n",
        "\n",
        "    txt = [token.lemma_.lower() for token in text \n",
        "         if token.is_alpha \n",
        "         and not token.is_stop \n",
        "         and not token.is_punct]\n",
        "\n",
        "    clean_text.append(txt)\n",
        "\n",
        "\n",
        "    pbar.update(1)"
      ]
    },
    {
      "cell_type": "code",
      "execution_count": null,
      "id": "f360a171",
      "metadata": {
        "id": "f360a171"
      },
      "outputs": [],
      "source": [
        "data_train['clean_text'] = clean_text"
      ]
    },
    {
      "cell_type": "code",
      "execution_count": null,
      "id": "74fcedf8",
      "metadata": {
        "id": "74fcedf8"
      },
      "outputs": [],
      "source": [
        "from gensim.models import Word2Vec"
      ]
    },
    {
      "cell_type": "code",
      "execution_count": null,
      "id": "74961a22",
      "metadata": {
        "id": "74961a22"
      },
      "outputs": [],
      "source": [
        "import logging\n",
        "logging.basicConfig(format='%(asctime)s : %(levelname)s : %(message)s', level=logging.INFO)"
      ]
    },
    {
      "cell_type": "code",
      "execution_count": null,
      "id": "f76eecc9",
      "metadata": {
        "id": "f76eecc9",
        "outputId": "f54645e3-cecd-4f83-e141-0170a3436648"
      },
      "outputs": [
        {
          "name": "stderr",
          "output_type": "stream",
          "text": [
            "2022-03-13 22:11:56,025 : INFO : collecting all words and their counts\n",
            "2022-03-13 22:11:56,026 : INFO : PROGRESS: at sentence #0, processed 0 words, keeping 0 word types\n",
            "2022-03-13 22:11:56,108 : INFO : PROGRESS: at sentence #10000, processed 340439 words, keeping 32540 word types\n",
            "2022-03-13 22:11:56,179 : INFO : PROGRESS: at sentence #20000, processed 677972 words, keeping 46818 word types\n",
            "2022-03-13 22:11:56,214 : INFO : collected 52780 word types from a corpus of 847925 raw words and 25000 sentences\n",
            "2022-03-13 22:11:56,215 : INFO : Creating a fresh vocabulary\n",
            "2022-03-13 22:11:56,360 : INFO : Word2Vec lifecycle event {'msg': 'effective_min_count=2 retains 27531 unique words (52.16180371352785%% of original 52780, drops 25249)', 'datetime': '2022-03-13T22:11:56.360559', 'gensim': '4.1.2', 'python': '3.8.12 (default, Oct 12 2021, 03:01:40) [MSC v.1916 64 bit (AMD64)]', 'platform': 'Windows-10-10.0.22000-SP0', 'event': 'prepare_vocab'}\n",
            "2022-03-13 22:11:56,361 : INFO : Word2Vec lifecycle event {'msg': 'effective_min_count=2 leaves 822676 word corpus (97.02226022348675%% of original 847925, drops 25249)', 'datetime': '2022-03-13T22:11:56.361519', 'gensim': '4.1.2', 'python': '3.8.12 (default, Oct 12 2021, 03:01:40) [MSC v.1916 64 bit (AMD64)]', 'platform': 'Windows-10-10.0.22000-SP0', 'event': 'prepare_vocab'}\n",
            "2022-03-13 22:11:56,555 : INFO : deleting the raw counts dictionary of 52780 items\n",
            "2022-03-13 22:11:56,558 : INFO : sample=0.001 downsamples 24 most-common words\n",
            "2022-03-13 22:11:56,559 : INFO : Word2Vec lifecycle event {'msg': 'downsampling leaves estimated 789607.3247270375 word corpus (96.0%% of prior 822676)', 'datetime': '2022-03-13T22:11:56.559811', 'gensim': '4.1.2', 'python': '3.8.12 (default, Oct 12 2021, 03:01:40) [MSC v.1916 64 bit (AMD64)]', 'platform': 'Windows-10-10.0.22000-SP0', 'event': 'prepare_vocab'}\n",
            "2022-03-13 22:11:56,840 : INFO : estimated required memory for 27531 words and 300 dimensions: 79839900 bytes\n",
            "2022-03-13 22:11:56,840 : INFO : resetting layer weights\n",
            "2022-03-13 22:11:56,886 : INFO : Word2Vec lifecycle event {'update': False, 'trim_rule': 'None', 'datetime': '2022-03-13T22:11:56.886845', 'gensim': '4.1.2', 'python': '3.8.12 (default, Oct 12 2021, 03:01:40) [MSC v.1916 64 bit (AMD64)]', 'platform': 'Windows-10-10.0.22000-SP0', 'event': 'build_vocab'}\n",
            "2022-03-13 22:11:56,887 : INFO : Word2Vec lifecycle event {'msg': 'training model with 2 workers on 27531 vocabulary and 300 features, using sg=0 hs=0 sample=0.001 negative=5 window=5 shrink_windows=True', 'datetime': '2022-03-13T22:11:56.887842', 'gensim': '4.1.2', 'python': '3.8.12 (default, Oct 12 2021, 03:01:40) [MSC v.1916 64 bit (AMD64)]', 'platform': 'Windows-10-10.0.22000-SP0', 'event': 'train'}\n",
            "2022-03-13 22:11:57,899 : INFO : EPOCH 1 - PROGRESS: at 69.42% examples, 544258 words/s, in_qsize 3, out_qsize 0\n",
            "2022-03-13 22:11:58,381 : INFO : worker thread finished; awaiting finish of 1 more threads\n",
            "2022-03-13 22:11:58,406 : INFO : worker thread finished; awaiting finish of 0 more threads\n",
            "2022-03-13 22:11:58,407 : INFO : EPOCH - 1 : training on 847925 raw words (789665 effective words) took 1.5s, 521097 effective words/s\n",
            "2022-03-13 22:11:59,424 : INFO : EPOCH 2 - PROGRESS: at 59.98% examples, 469705 words/s, in_qsize 3, out_qsize 0\n",
            "2022-03-13 22:12:00,020 : INFO : worker thread finished; awaiting finish of 1 more threads\n",
            "2022-03-13 22:12:00,054 : INFO : worker thread finished; awaiting finish of 0 more threads\n",
            "2022-03-13 22:12:00,055 : INFO : EPOCH - 2 : training on 847925 raw words (789688 effective words) took 1.6s, 481376 effective words/s\n",
            "2022-03-13 22:12:01,059 : INFO : EPOCH 3 - PROGRESS: at 64.69% examples, 510919 words/s, in_qsize 3, out_qsize 0\n",
            "2022-03-13 22:12:01,534 : INFO : worker thread finished; awaiting finish of 1 more threads\n",
            "2022-03-13 22:12:01,543 : INFO : worker thread finished; awaiting finish of 0 more threads\n",
            "2022-03-13 22:12:01,545 : INFO : EPOCH - 3 : training on 847925 raw words (789567 effective words) took 1.5s, 531263 effective words/s\n",
            "2022-03-13 22:12:02,555 : INFO : EPOCH 4 - PROGRESS: at 75.34% examples, 591439 words/s, in_qsize 3, out_qsize 0\n",
            "2022-03-13 22:12:02,857 : INFO : worker thread finished; awaiting finish of 1 more threads\n",
            "2022-03-13 22:12:02,873 : INFO : worker thread finished; awaiting finish of 0 more threads\n",
            "2022-03-13 22:12:02,874 : INFO : EPOCH - 4 : training on 847925 raw words (789508 effective words) took 1.3s, 596269 effective words/s\n",
            "2022-03-13 22:12:03,880 : INFO : EPOCH 5 - PROGRESS: at 76.50% examples, 602699 words/s, in_qsize 3, out_qsize 0\n",
            "2022-03-13 22:12:04,167 : INFO : worker thread finished; awaiting finish of 1 more threads\n",
            "2022-03-13 22:12:04,181 : INFO : worker thread finished; awaiting finish of 0 more threads\n",
            "2022-03-13 22:12:04,182 : INFO : EPOCH - 5 : training on 847925 raw words (789722 effective words) took 1.3s, 605416 effective words/s\n",
            "2022-03-13 22:12:04,183 : INFO : Word2Vec lifecycle event {'msg': 'training on 4239625 raw words (3948150 effective words) took 7.3s, 541225 effective words/s', 'datetime': '2022-03-13T22:12:04.183630', 'gensim': '4.1.2', 'python': '3.8.12 (default, Oct 12 2021, 03:01:40) [MSC v.1916 64 bit (AMD64)]', 'platform': 'Windows-10-10.0.22000-SP0', 'event': 'train'}\n",
            "2022-03-13 22:12:04,183 : INFO : Word2Vec lifecycle event {'params': 'Word2Vec(vocab=27531, vector_size=300, alpha=0.025)', 'datetime': '2022-03-13T22:12:04.183630', 'gensim': '4.1.2', 'python': '3.8.12 (default, Oct 12 2021, 03:01:40) [MSC v.1916 64 bit (AMD64)]', 'platform': 'Windows-10-10.0.22000-SP0', 'event': 'created'}\n"
          ]
        }
      ],
      "source": [
        "# train word2vec model\n",
        "w2v_model = Word2Vec(sentences=data_train['clean_text'], vector_size=300, window=5, min_count=2, workers=2, epochs=5)"
      ]
    },
    {
      "cell_type": "code",
      "execution_count": null,
      "id": "dfacf50a",
      "metadata": {
        "id": "dfacf50a"
      },
      "outputs": [],
      "source": [
        "# check out cosine similarity for some word-vectors\n",
        "from sklearn.metrics.pairwise import cosine_similarity"
      ]
    },
    {
      "cell_type": "code",
      "execution_count": null,
      "id": "210dee3f",
      "metadata": {
        "id": "210dee3f"
      },
      "outputs": [],
      "source": [
        "keyboard = w2v_model.wv['keyboard'].reshape(1,300)\n",
        "webcam = w2v_model.wv['webcam'].reshape(1,300)\n",
        "mouse = w2v_model.wv['mouse'].reshape(1,300)\n",
        "pc = w2v_model.wv['pc'].reshape(1,300)"
      ]
    },
    {
      "cell_type": "code",
      "execution_count": null,
      "id": "ea18c274",
      "metadata": {
        "id": "ea18c274"
      },
      "outputs": [],
      "source": [
        "\n",
        "def get_mean_vector(word2vec_model, words):\n",
        "    # remove out-of-vocabulary words\n",
        "    words = [word for word in words if word in w2v_model.wv.key_to_index]\n",
        "    if len(words) >= 1:\n",
        "        return np.mean(word2vec_model.wv[words], axis=0)\n",
        "    else:\n",
        "        return []"
      ]
    },
    {
      "cell_type": "code",
      "execution_count": null,
      "id": "a57c032f",
      "metadata": {
        "id": "a57c032f"
      },
      "outputs": [],
      "source": [
        "avg_rev_vecs = data_train['clean_text'].map(lambda t: get_mean_vector(w2v_model, t))"
      ]
    },
    {
      "cell_type": "code",
      "execution_count": null,
      "id": "f40e0b7d",
      "metadata": {
        "id": "f40e0b7d",
        "outputId": "0672a06d-cadb-4df0-d483-191bb6d0549d"
      },
      "outputs": [
        {
          "name": "stderr",
          "output_type": "stream",
          "text": [
            "\r",
            "100%|███████████████████████████████████████████████████████████████████████████| 25000/25000 [02:47<00:00, 243.11it/s]"
          ]
        }
      ],
      "source": [
        "avg_rev_vecs = data_train['clean_text'].map(lambda t: get_mean_vector(w2v_model, t))"
      ]
    },
    {
      "cell_type": "code",
      "execution_count": null,
      "id": "b8c7e506",
      "metadata": {
        "id": "b8c7e506"
      },
      "outputs": [],
      "source": [
        "avg_rev_vecs = np.vstack(avg_rev_vecs)"
      ]
    },
    {
      "cell_type": "markdown",
      "id": "205b5215",
      "metadata": {
        "id": "205b5215"
      },
      "source": [
        "# Second part : Text classification"
      ]
    },
    {
      "cell_type": "code",
      "execution_count": null,
      "id": "4beaf2e7",
      "metadata": {
        "id": "4beaf2e7"
      },
      "outputs": [],
      "source": [
        "import mglearn\n",
        "from sklearn.linear_model import LogisticRegression\n",
        "from sklearn.svm import LinearSVC\n",
        "from sklearn.model_selection import train_test_split\n",
        "from sklearn.feature_extraction.text import TfidfVectorizer"
      ]
    },
    {
      "cell_type": "markdown",
      "id": "a8249e18",
      "metadata": {
        "id": "a8249e18"
      },
      "source": [
        "#### We'll use as features the average vector of the reviews. It means that we'll have 300 features for 25000 thousands observations"
      ]
    },
    {
      "cell_type": "code",
      "execution_count": null,
      "id": "58383d97",
      "metadata": {
        "id": "58383d97"
      },
      "outputs": [],
      "source": [
        "data_vecs = pd.DataFrame(avg_rev_vecs)\n",
        "#data_vecs['y'] = data_train['output']"
      ]
    },
    {
      "cell_type": "code",
      "execution_count": null,
      "id": "0744ca00",
      "metadata": {
        "id": "0744ca00"
      },
      "outputs": [],
      "source": [
        "def dummy_fun(doc):\n",
        "    return doc\n",
        "tfidf = TfidfVectorizer(vocabulary=w2v_model.wv.key_to_index.keys(),\n",
        "    tokenizer=dummy_fun,\n",
        "    preprocessor=dummy_fun,\n",
        "    token_pattern=None)  \n",
        "# Tfidf matrix  \n",
        "df_tfidf = tfidf.fit_transform(data_train['clean_text'])"
      ]
    },
    {
      "cell_type": "code",
      "execution_count": null,
      "id": "ecd23239",
      "metadata": {
        "id": "ecd23239"
      },
      "outputs": [],
      "source": [
        "\n",
        "df_w2v_tfidf = df_tfidf @ w2v_model.wv.vectors\n",
        "sims = cosine_similarity(df_w2v_tfidf[10].reshape(1,300), df_w2v_tfidf)"
      ]
    },
    {
      "cell_type": "code",
      "execution_count": null,
      "id": "c639a10d",
      "metadata": {
        "id": "c639a10d"
      },
      "outputs": [],
      "source": [
        "X_train, X_test, y_train, y_test = train_test_split(\n",
        "    data_vecs, data_train['output'], test_size = 4000, stratify=data_train['output'], random_state=0)\n"
      ]
    },
    {
      "cell_type": "markdown",
      "id": "adb326d0",
      "metadata": {
        "id": "adb326d0"
      },
      "source": [
        "#### First we ran a simple logistic regression and check the accuracy of the training and the test set. "
      ]
    },
    {
      "cell_type": "code",
      "execution_count": null,
      "id": "881f2cea",
      "metadata": {
        "id": "881f2cea",
        "outputId": "96e743c4-35d1-4c2b-db62-e695dc0df28b"
      },
      "outputs": [
        {
          "name": "stdout",
          "output_type": "stream",
          "text": [
            "Accuracy (training): 0.796\n",
            "Accuracy (test): 0.797\n"
          ]
        },
        {
          "name": "stderr",
          "output_type": "stream",
          "text": [
            "C:\\Users\\Victo\\anaconda3\\lib\\site-packages\\sklearn\\linear_model\\_logistic.py:814: ConvergenceWarning: lbfgs failed to converge (status=1):\n",
            "STOP: TOTAL NO. of ITERATIONS REACHED LIMIT.\n",
            "\n",
            "Increase the number of iterations (max_iter) or scale the data as shown in:\n",
            "    https://scikit-learn.org/stable/modules/preprocessing.html\n",
            "Please also refer to the documentation for alternative solver options:\n",
            "    https://scikit-learn.org/stable/modules/linear_model.html#logistic-regression\n",
            "  n_iter_i = _check_optimize_result(\n"
          ]
        }
      ],
      "source": [
        "logreg = LogisticRegression().fit(X_train, y_train)\n",
        "#logreg = LogisticRegression(max_iter=5000).fit(X_train, y_train)\n",
        "\n",
        "print(\"Accuracy (training): {:.3f}\".format(logreg.score(X_train, y_train)))\n",
        "print(\"Accuracy (test): {:.3f}\".format(logreg.score(X_test, y_test)))\n"
      ]
    },
    {
      "cell_type": "markdown",
      "id": "522792bd",
      "metadata": {
        "id": "522792bd"
      },
      "source": [
        "#### By adding regularization we can significantly increase the accuracy of the model"
      ]
    },
    {
      "cell_type": "code",
      "execution_count": null,
      "id": "d093174f",
      "metadata": {
        "id": "d093174f",
        "outputId": "817ba665-2ab3-480b-edb0-8100591b04b4"
      },
      "outputs": [
        {
          "name": "stdout",
          "output_type": "stream",
          "text": [
            "Accuracy C=  0.001  (test): 0.753\n",
            "Accuracy C=  0.01  (test): 0.777\n",
            "Accuracy C=  0.1  (test): 0.789\n",
            "Accuracy C=  1  (test): 0.797\n",
            "Accuracy C=  2  (test): 0.802\n",
            "Accuracy C=  5  (test): 0.805\n",
            "Accuracy C=  10  (test): 0.807\n",
            "Accuracy C=  50  (test): 0.816\n",
            "Accuracy C=  100  (test): 0.821\n"
          ]
        }
      ],
      "source": [
        "accuracy_log = []\n",
        "for c in [0.001,0.01,0.1,1,2,5,10,50,100]:\n",
        "    logregc = LogisticRegression(max_iter=5000,C=c).fit(X_train,y_train)\n",
        "    print(\"Accuracy C= \", c, \" (test): {:.3f}\".format(logregc.score(X_test, y_test)))\n",
        "    accuracy_log.append(logregc.score(X_test, y_test))"
      ]
    },
    {
      "cell_type": "code",
      "execution_count": null,
      "id": "15a0a50d",
      "metadata": {
        "id": "15a0a50d",
        "outputId": "56e58dea-416e-4b0b-c5bf-0fed37099540"
      },
      "outputs": [
        {
          "data": {
            "text/plain": [
              "[<matplotlib.lines.Line2D at 0x1c0bcf7d6d0>]"
            ]
          },
          "execution_count": 52,
          "metadata": {},
          "output_type": "execute_result"
        },
        {
          "data": {
            "image/png": "[encoded data removed]",
            "text/plain": [
              "<Figure size 432x288 with 1 Axes>"
            ]
          },
          "metadata": {
            "needs_background": "light"
          },
          "output_type": "display_data"
        }
      ],
      "source": [
        "plt.plot([0.001,0.01,0.1,1,2,5,10,50,100], accuracy_log, 'bx-')\n",
        "plt.xlabel('C')\n",
        "plt.ylabel('Accuracy ')\n",
        "plt.title('Log model : variation of accuracy regarding value of C')\n",
        "plt.show()"
      ]
    },
    {
      "cell_type": "code",
      "execution_count": null,
      "id": "3c40dea9",
      "metadata": {
        "id": "3c40dea9"
      },
      "outputs": [],
      "source": [
        "from sklearn.svm import SVC"
      ]
    },
    {
      "cell_type": "code",
      "execution_count": null,
      "id": "39b6fcbb",
      "metadata": {
        "id": "39b6fcbb",
        "outputId": "251da960-89e6-47b1-ad22-7a5e0e404b8a"
      },
      "outputs": [
        {
          "name": "stdout",
          "output_type": "stream",
          "text": [
            "Accuracy (training): 0.799\n",
            "Accuracy (test): 0.798\n"
          ]
        }
      ],
      "source": [
        "svc = SVC()\n",
        "\n",
        "# Fit the model on the training set \n",
        "svc.fit(X_train, y_train)\n",
        "\n",
        "print(\"Accuracy (training): {:.3f}\".format(svc.score(X_train, y_train)))\n",
        "print(\"Accuracy (test): {:.3f}\".format(svc.score(X_test, y_test)))\n"
      ]
    },
    {
      "cell_type": "markdown",
      "id": "dee62c9b",
      "metadata": {
        "id": "dee62c9b"
      },
      "source": [
        "#### Same model but with scaled data"
      ]
    },
    {
      "cell_type": "code",
      "execution_count": null,
      "id": "e4b896b6",
      "metadata": {
        "id": "e4b896b6"
      },
      "outputs": [],
      "source": [
        "from sklearn.preprocessing import StandardScaler\n",
        "scaler = StandardScaler()\n",
        "scaler.fit(X_train)\n",
        "X_train_scaled = scaler.transform(X_train)\n",
        "X_test_scaled = scaler.transform(X_test)"
      ]
    },
    {
      "cell_type": "code",
      "execution_count": null,
      "id": "ca0985aa",
      "metadata": {
        "id": "ca0985aa",
        "outputId": "0355a6ad-a02a-4b0f-95f3-304e2162e2b9"
      },
      "outputs": [
        {
          "name": "stdout",
          "output_type": "stream",
          "text": [
            "[LibSVM]C =  0.1\n",
            "Accuracy (training): 0.811\n",
            "Accuracy (test): 0.807\n",
            "[LibSVM]C =  1\n",
            "Accuracy (training): 0.827\n",
            "Accuracy (test): 0.827\n",
            "[LibSVM]C =  2\n",
            "Accuracy (training): 0.830\n",
            "Accuracy (test): 0.830\n"
          ]
        }
      ],
      "source": [
        "svc_accuracy = []\n",
        "for c in [0.1,1,2]:\n",
        "\n",
        "    svc = SVC(kernel='linear', C=c, verbose=1)\n",
        "    svc.fit(X_train_scaled, y_train)\n",
        "    print('C = ', c)\n",
        "    print(\"Accuracy (training): {:.3f}\".format(svc.score(X_train_scaled, y_train)))\n",
        "    print(\"Accuracy (test): {:.3f}\".format(svc.score(X_test_scaled, y_test)))\n",
        "    svc_accuracy.append(svc.score(X_test_scaled, y_test))\n",
        "    "
      ]
    },
    {
      "cell_type": "markdown",
      "id": "0bc8bf4b",
      "metadata": {
        "id": "0bc8bf4b"
      },
      "source": [
        "#### We can also try the same models using the tfidf transformation"
      ]
    },
    {
      "cell_type": "code",
      "execution_count": null,
      "id": "8049a99f",
      "metadata": {
        "id": "8049a99f"
      },
      "outputs": [],
      "source": [
        "X_train, X_test, y_train, y_test = train_test_split(\n",
        "    df_w2v_tfidf, data_train['output'], test_size = 4000, stratify=data_train['output'], random_state=0)\n"
      ]
    },
    {
      "cell_type": "code",
      "execution_count": null,
      "id": "b2e0d196",
      "metadata": {
        "id": "b2e0d196",
        "outputId": "14fec9d2-372e-4917-f9e8-5ae7e354d38d"
      },
      "outputs": [
        {
          "name": "stdout",
          "output_type": "stream",
          "text": [
            "Accuracy C=0.001 (test): 0.777\n",
            "Accuracy C=50 (test): 0.835\n"
          ]
        }
      ],
      "source": [
        "logreg001 = LogisticRegression(max_iter=5000, C=0.001).fit(X_train, y_train)\n",
        "logreg50 = LogisticRegression(max_iter=5000, C=50).fit(X_train, y_train)\n",
        "\n",
        "print(\"Accuracy C=0.001 (test): {:.3f}\".format(logreg001.score(X_test, y_test)))\n",
        "print(\"Accuracy C=50 (test): {:.3f}\".format(logreg50.score(X_test, y_test)))\n"
      ]
    },
    {
      "cell_type": "code",
      "execution_count": null,
      "id": "6ae73d16",
      "metadata": {
        "id": "6ae73d16",
        "outputId": "7f71e940-1704-4cfa-8eb4-0124f567f1a9"
      },
      "outputs": [
        {
          "name": "stdout",
          "output_type": "stream",
          "text": [
            "Accuracy C=  0.001  (test): 0.777\n",
            "Accuracy C=  0.01  (test): 0.793\n",
            "Accuracy C=  0.1  (test): 0.805\n",
            "Accuracy C=  1  (test): 0.810\n",
            "Accuracy C=  2  (test): 0.816\n",
            "Accuracy C=  5  (test): 0.820\n",
            "Accuracy C=  10  (test): 0.824\n",
            "Accuracy C=  50  (test): 0.835\n",
            "Accuracy C=  100  (test): 0.834\n"
          ]
        },
        {
          "name": "stderr",
          "output_type": "stream",
          "text": [
            "C:\\Users\\Victo\\anaconda3\\lib\\site-packages\\sklearn\\linear_model\\_logistic.py:814: ConvergenceWarning: lbfgs failed to converge (status=1):\n",
            "STOP: TOTAL NO. of ITERATIONS REACHED LIMIT.\n",
            "\n",
            "Increase the number of iterations (max_iter) or scale the data as shown in:\n",
            "    https://scikit-learn.org/stable/modules/preprocessing.html\n",
            "Please also refer to the documentation for alternative solver options:\n",
            "    https://scikit-learn.org/stable/modules/linear_model.html#logistic-regression\n",
            "  n_iter_i = _check_optimize_result(\n"
          ]
        }
      ],
      "source": [
        "accuracy_log = []\n",
        "for c in [0.001,0.01,0.1,1,2,5,10,50,100]:\n",
        "    logregc = LogisticRegression(max_iter=5000,C=c).fit(X_train,y_train)\n",
        "    print(\"Accuracy C= \", c, \" (test): {:.3f}\".format(logregc.score(X_test, y_test)))\n",
        "    accuracy_log.append(logregc.score(X_test, y_test))"
      ]
    },
    {
      "cell_type": "code",
      "execution_count": null,
      "id": "26cf4f8a",
      "metadata": {
        "id": "26cf4f8a",
        "outputId": "fdf32e64-799f-4053-dbe7-a314d6292e6f"
      },
      "outputs": [
        {
          "data": {
            "image/png": "[encoded data removed]",
            "text/plain": [
              "<Figure size 432x288 with 1 Axes>"
            ]
          },
          "metadata": {
            "needs_background": "light"
          },
          "output_type": "display_data"
        }
      ],
      "source": [
        "plt.plot([0.001,0.01,0.1,1,2,5,10,50,100], accuracy_log, 'bx-')\n",
        "plt.xlabel('C')\n",
        "plt.ylabel('Accuracy ')\n",
        "plt.title('Log model : Variation of accuracy regarding value of C (tfidf value)')\n",
        "plt.show()"
      ]
    },
    {
      "cell_type": "code",
      "execution_count": null,
      "id": "bd021584",
      "metadata": {
        "id": "bd021584",
        "outputId": "7bb78bb5-8700-4bc2-fde0-4f911a62095c"
      },
      "outputs": [
        {
          "name": "stdout",
          "output_type": "stream",
          "text": [
            "[LibSVM]"
          ]
        }
      ],
      "source": [
        "svc_accuracy = []\n",
        "for c in [0.1,1,2]:\n",
        "\n",
        "    svc = SVC(kernel='linear', C=c, verbose=1)\n",
        "    svc.fit(X_train, y_train)\n",
        "    print('C = ', c)\n",
        "    print(\"Accuracy (training): {:.3f}\".format(svc.score(X_train, y_train)))\n",
        "    print(\"Accuracy (test): {:.3f}\".format(svc.score(X_test, y_test)))\n",
        "    svc_accuracy.append(svc.score(X_test, y_test))\n",
        "    "
      ]
    },
    {
      "cell_type": "code",
      "execution_count": null,
      "id": "beea2d9b",
      "metadata": {
        "id": "beea2d9b"
      },
      "outputs": [],
      "source": [
        "plt.plot([0.1,1,2],svc_accuracy, 'bx-')\n",
        "plt.xlabel('C')\n",
        "plt.ylabel('Accuracy ')\n",
        "plt.title('SVM model : Variation of accuracy regarding value of C (tfidf value)' )\n",
        "plt.show()"
      ]
    }
  ],
  "metadata": {
    "kernelspec": {
      "display_name": "Python 3 (ipykernel)",
      "language": "python",
      "name": "python3"
    },
    "language_info": {
      "codemirror_mode": {
        "name": "ipython",
        "version": 3
      },
      "file_extension": ".py",
      "mimetype": "text/x-python",
      "name": "python",
      "nbconvert_exporter": "python",
      "pygments_lexer": "ipython3",
      "version": "3.8.12"
    },
    "colab": {
      "name": "NLP_projet_vs.ipynb",
      "provenance": []
    }
  },
  "nbformat": 4,
  "nbformat_minor": 5
}